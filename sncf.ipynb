{
    "nbformat": 4, 
    "cells": [
        {
            "cell_type": "code", 
            "metadata": {
                "collapsed": false
            }, 
            "execution_count": 1, 
            "source": "sc", 
            "outputs": [
                {
                    "output_type": "execute_result", 
                    "data": {
                        "text/plain": "org.apache.spark.SparkContext@96a8de99"
                    }, 
                    "metadata": {}, 
                    "execution_count": 1
                }
            ]
        }, 
        {
            "cell_type": "code", 
            "metadata": {
                "collapsed": false
            }, 
            "execution_count": 2, 
            "source": "sc.version", 
            "outputs": [
                {
                    "output_type": "execute_result", 
                    "data": {
                        "text/plain": "2.1.0"
                    }, 
                    "metadata": {}, 
                    "execution_count": 2
                }
            ]
        }, 
        {
            "cell_type": "markdown", 
            "metadata": {}, 
            "source": "positions-geographiques-des-stations-du-reseau-ratp"
        }, 
        {
            "cell_type": "code", 
            "metadata": {
                "collapsed": false
            }, 
            "execution_count": 2, 
            "source": "// The code was removed by DSX for sharing.", 
            "outputs": [
                {
                    "name": "stdout", 
                    "output_type": "stream", 
                    "text": "+-------+--------------------+--------------------+--------------------+------------------+------------------+----------+-----------+\n|stop_id|           stop_name|           stop_desc|               coord|          stop_lat|          stop_lon|code_INSEE|departement|\n+-------+--------------------+--------------------+--------------------+------------------+------------------+----------+-----------+\n|   2158|       Ach\u00e8res-Ville|Avenue de Conflan...|48.9700771763, 2....|48.970077176304514|2.0776181820083806|     78005|         78|\n|   2159|              Al\u00e9sia|Place Victor et H...|48.8280660197, 2....| 48.82806601968645| 2.326827420050836|     75114|         75|\n|   2172|            Concorde|Tuileries (jardin...|48.8654893909, 2....|  48.8654893908901| 2.321411789213801|     75108|         75|\n|   2174|          Convention|Vaugirard (337 ru...|48.8371369496, 2....| 48.83713694956265| 2.296396090155559|     75115|         75|\n|   2178|Courcelle-sur-Yvette|Rue Fernand Leger...|48.7007630181, 2....| 48.70076301806364| 2.099100527058702|     91272|         91|\n|   2187|   Denfert-Rochereau|G\u00e9n\u00e9ral Leclerc (...|48.8333151859, 2....|48.833315185891436|2.3334427638299853|     75114|         75|\n|   2188|              Drancy|Anatole France (1...|48.9327098091, 2....|48.932709809148555| 2.455105345174671|     93029|         93|\n|   2198|  Fontenay-sous-Bois|Moreau David (pla...|48.8434118592, 2....|  48.8434118592224| 2.464815403274336|     94033|         94|\n|   2210|        Gare de Lyon|Rue de Bercy - 75112|48.8455597871, 2....| 48.84555978708341|  2.37344920496318|     75112|         75|\n|   2212|        Gare du Nord|Rue du Faubourg S...|48.8797430642, 2....| 48.87974306422535|2.3546008104722334|     75110|         75|\n|   2213|        Gare du Nord|Rue du Faubourg S...|48.8793833026, 2....| 48.87938330261579| 2.356372081359306|     75110|         75|\n|   2214|           Garibaldi|Gabriel P\u00e9ri (ave...|48.9063821642, 2....|48.906382164226436|2.3319104734589318|     93070|         93|\n|   2215|            Gentilly|Romain Rolland - ...|48.8157443059, 2....| 48.81574430585205|2.3408747750262417|     94037|         94|\n|2224141|               OPERA|11 RUE SCRIBE - 7...|48.8720959556, 2....|  48.8720959556315|2.3305924621304466|     75109|         75|\n|   2230|                Cit\u00e9|Louis Lepine (2 p...|48.8556848503, 2....| 48.85568485028629|2.3462029295287157|     75104|         75|\n|   2234|              Kl\u00e9ber|Kl\u00e9ber (15 avenue...|48.8713061491, 2....| 48.87130614908782|2.2933310208962174|     75116|         75|\n|   2241|La Motte-Picquet-...|Pondich\u00e9ry (25 ru...|48.8488212667, 2....| 48.84882126668606|2.2979529640251917|     75115|         75|\n|   2242|           La Muette|Mozart (5 avenue)...|48.8580950497, 2....| 48.85809504968323| 2.274096448110612|     75116|         75|\n|   2244|La Varenne-Chenne...|Pierre Semard (2 ...|48.7949335448, 2....| 48.79493354483859|2.5130447577249475|     94068|         94|\n|   2248|          Le Bourget|Deportes (place d...|48.9309104452, 2....| 48.93091044517924| 2.426307936884455|     93013|         93|\n+-------+--------------------+--------------------+--------------------+------------------+------------------+----------+-----------+\nonly showing top 20 rows\n\n"
                }
            ]
        }, 
        {
            "cell_type": "code", 
            "metadata": {
                "collapsed": false
            }, 
            "execution_count": 7, 
            "source": "dfData1.describe(\"departement\")", 
            "outputs": [
                {
                    "output_type": "execute_result", 
                    "data": {
                        "text/plain": "[summary: string, departement: string]"
                    }, 
                    "metadata": {}, 
                    "execution_count": 7
                }
            ]
        }, 
        {
            "cell_type": "code", 
            "metadata": {
                "collapsed": true
            }, 
            "execution_count": null, 
            "source": "", 
            "outputs": []
        }
    ], 
    "metadata": {
        "kernelspec": {
            "display_name": "Scala 2.11 with Spark 2.1", 
            "language": "scala", 
            "name": "scala-spark21"
        }, 
        "language_info": {
            "version": "2.11.8", 
            "name": "scala", 
            "mimetype": "text/x-scala", 
            "file_extension": ".scala", 
            "codemirror_mode": "text/x-scala", 
            "pygments_lexer": "scala"
        }
    }, 
    "nbformat_minor": 0
}