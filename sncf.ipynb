{
    "nbformat": 4, 
    "cells": [
        {
            "cell_type": "code", 
            "metadata": {
                "collapsed": false
            }, 
            "execution_count": 1, 
            "source": "sc", 
            "outputs": [
                {
                    "output_type": "execute_result", 
                    "data": {
                        "text/plain": "org.apache.spark.SparkContext@96a8de99"
                    }, 
                    "metadata": {}, 
                    "execution_count": 1
                }
            ]
        }, 
        {
            "cell_type": "code", 
            "metadata": {
                "collapsed": false
            }, 
            "execution_count": 2, 
            "source": "sc.version", 
            "outputs": [
                {
                    "output_type": "execute_result", 
                    "data": {
                        "text/plain": "2.1.0"
                    }, 
                    "metadata": {}, 
                    "execution_count": 2
                }
            ]
        }, 
        {
            "cell_type": "code", 
            "metadata": {
                "collapsed": true
            }, 
            "execution_count": null, 
            "source": "", 
            "outputs": []
        }
    ], 
    "metadata": {
        "kernelspec": {
            "display_name": "Scala 2.11 with Spark 2.1", 
            "language": "scala", 
            "name": "scala-spark21"
        }, 
        "language_info": {
            "version": "2.11.8", 
            "name": "scala", 
            "mimetype": "text/x-scala", 
            "file_extension": ".scala", 
            "codemirror_mode": "text/x-scala", 
            "pygments_lexer": "scala"
        }
    }, 
    "nbformat_minor": 0
}